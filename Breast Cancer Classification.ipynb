{
 "cells": [
  {
   "cell_type": "markdown",
   "id": "bfdfd501",
   "metadata": {},
   "source": [
    "# Breast Cancer Data Set -  Classification and Validation"
   ]
  },
  {
   "cell_type": "markdown",
   "id": "3362ca36",
   "metadata": {},
   "source": [
    "## Loading Dataset"
   ]
  },
  {
   "cell_type": "markdown",
   "id": "c60a837a",
   "metadata": {},
   "source": [
    "#### Importing Libraries"
   ]
  },
  {
   "cell_type": "code",
   "execution_count": 40,
   "id": "95561b98",
   "metadata": {},
   "outputs": [],
   "source": [
    "import numpy as np\n",
    "import pandas as pd\n",
    "import seaborn as sns\n",
    "%matplotlib inline\n",
    "import matplotlib.pyplot as plt\n",
    "from sklearn.metrics import confusion_matrix\n",
    "import math\n",
    "from sklearn import metrics\n",
    "import warnings\n",
    "warnings.filterwarnings('ignore')"
   ]
  },
  {
   "cell_type": "markdown",
   "id": "d39e90ec",
   "metadata": {},
   "source": [
    "#### Importing Cancer datasets"
   ]
  },
  {
   "cell_type": "code",
   "execution_count": 41,
   "id": "3d81721d",
   "metadata": {},
   "outputs": [
    {
     "data": {
      "text/html": [
       "<div>\n",
       "<style scoped>\n",
       "    .dataframe tbody tr th:only-of-type {\n",
       "        vertical-align: middle;\n",
       "    }\n",
       "\n",
       "    .dataframe tbody tr th {\n",
       "        vertical-align: top;\n",
       "    }\n",
       "\n",
       "    .dataframe thead th {\n",
       "        text-align: right;\n",
       "    }\n",
       "</style>\n",
       "<table border=\"1\" class=\"dataframe\">\n",
       "  <thead>\n",
       "    <tr style=\"text-align: right;\">\n",
       "      <th></th>\n",
       "      <th>Cl.thickness</th>\n",
       "      <th>Cell.size</th>\n",
       "      <th>Cell.shape</th>\n",
       "      <th>Marg.adhesion</th>\n",
       "      <th>Epith.c.size</th>\n",
       "      <th>Bare.nuclei</th>\n",
       "      <th>Bl.cromatin</th>\n",
       "      <th>Normal.nucleoli</th>\n",
       "      <th>Mitoses</th>\n",
       "      <th>Class</th>\n",
       "    </tr>\n",
       "  </thead>\n",
       "  <tbody>\n",
       "    <tr>\n",
       "      <th>0</th>\n",
       "      <td>4.454847</td>\n",
       "      <td>2.386095</td>\n",
       "      <td>2.295170</td>\n",
       "      <td>2.530536</td>\n",
       "      <td>2.723036</td>\n",
       "      <td>2.393815</td>\n",
       "      <td>3.582104</td>\n",
       "      <td>2.591299</td>\n",
       "      <td>3.199268</td>\n",
       "      <td>0</td>\n",
       "    </tr>\n",
       "    <tr>\n",
       "      <th>1</th>\n",
       "      <td>4.454847</td>\n",
       "      <td>4.637212</td>\n",
       "      <td>4.603958</td>\n",
       "      <td>5.742196</td>\n",
       "      <td>7.896027</td>\n",
       "      <td>8.074609</td>\n",
       "      <td>3.582104</td>\n",
       "      <td>3.344739</td>\n",
       "      <td>3.199268</td>\n",
       "      <td>0</td>\n",
       "    </tr>\n",
       "    <tr>\n",
       "      <th>2</th>\n",
       "      <td>2.824082</td>\n",
       "      <td>2.386095</td>\n",
       "      <td>2.295170</td>\n",
       "      <td>2.530536</td>\n",
       "      <td>2.723036</td>\n",
       "      <td>3.025014</td>\n",
       "      <td>3.582104</td>\n",
       "      <td>2.591299</td>\n",
       "      <td>3.199268</td>\n",
       "      <td>0</td>\n",
       "    </tr>\n",
       "    <tr>\n",
       "      <th>3</th>\n",
       "      <td>5.270230</td>\n",
       "      <td>7.638702</td>\n",
       "      <td>7.682342</td>\n",
       "      <td>2.530536</td>\n",
       "      <td>3.757634</td>\n",
       "      <td>4.287413</td>\n",
       "      <td>3.582104</td>\n",
       "      <td>7.111938</td>\n",
       "      <td>3.199268</td>\n",
       "      <td>0</td>\n",
       "    </tr>\n",
       "    <tr>\n",
       "      <th>4</th>\n",
       "      <td>3.639465</td>\n",
       "      <td>2.386095</td>\n",
       "      <td>2.295170</td>\n",
       "      <td>4.136366</td>\n",
       "      <td>2.723036</td>\n",
       "      <td>2.393815</td>\n",
       "      <td>3.582104</td>\n",
       "      <td>2.591299</td>\n",
       "      <td>3.199268</td>\n",
       "      <td>0</td>\n",
       "    </tr>\n",
       "    <tr>\n",
       "      <th>5</th>\n",
       "      <td>6.900996</td>\n",
       "      <td>9.139446</td>\n",
       "      <td>9.221535</td>\n",
       "      <td>8.150941</td>\n",
       "      <td>7.896027</td>\n",
       "      <td>8.074609</td>\n",
       "      <td>9.215455</td>\n",
       "      <td>7.111938</td>\n",
       "      <td>3.199268</td>\n",
       "      <td>1</td>\n",
       "    </tr>\n",
       "    <tr>\n",
       "      <th>6</th>\n",
       "      <td>1.193317</td>\n",
       "      <td>2.386095</td>\n",
       "      <td>2.295170</td>\n",
       "      <td>2.530536</td>\n",
       "      <td>2.723036</td>\n",
       "      <td>8.074609</td>\n",
       "      <td>3.582104</td>\n",
       "      <td>2.591299</td>\n",
       "      <td>3.199268</td>\n",
       "      <td>0</td>\n",
       "    </tr>\n",
       "    <tr>\n",
       "      <th>7</th>\n",
       "      <td>2.008699</td>\n",
       "      <td>2.386095</td>\n",
       "      <td>3.064766</td>\n",
       "      <td>2.530536</td>\n",
       "      <td>2.723036</td>\n",
       "      <td>2.393815</td>\n",
       "      <td>3.582104</td>\n",
       "      <td>2.591299</td>\n",
       "      <td>3.199268</td>\n",
       "      <td>0</td>\n",
       "    </tr>\n",
       "    <tr>\n",
       "      <th>8</th>\n",
       "      <td>2.008699</td>\n",
       "      <td>2.386095</td>\n",
       "      <td>2.295170</td>\n",
       "      <td>2.530536</td>\n",
       "      <td>2.723036</td>\n",
       "      <td>2.393815</td>\n",
       "      <td>1.704320</td>\n",
       "      <td>2.591299</td>\n",
       "      <td>8.508979</td>\n",
       "      <td>0</td>\n",
       "    </tr>\n",
       "    <tr>\n",
       "      <th>9</th>\n",
       "      <td>3.639465</td>\n",
       "      <td>3.136468</td>\n",
       "      <td>2.295170</td>\n",
       "      <td>2.530536</td>\n",
       "      <td>2.723036</td>\n",
       "      <td>2.393815</td>\n",
       "      <td>2.643212</td>\n",
       "      <td>2.591299</td>\n",
       "      <td>3.199268</td>\n",
       "      <td>0</td>\n",
       "    </tr>\n",
       "  </tbody>\n",
       "</table>\n",
       "</div>"
      ],
      "text/plain": [
       "   Cl.thickness  Cell.size  Cell.shape  Marg.adhesion  Epith.c.size  \\\n",
       "0      4.454847   2.386095    2.295170       2.530536      2.723036   \n",
       "1      4.454847   4.637212    4.603958       5.742196      7.896027   \n",
       "2      2.824082   2.386095    2.295170       2.530536      2.723036   \n",
       "3      5.270230   7.638702    7.682342       2.530536      3.757634   \n",
       "4      3.639465   2.386095    2.295170       4.136366      2.723036   \n",
       "5      6.900996   9.139446    9.221535       8.150941      7.896027   \n",
       "6      1.193317   2.386095    2.295170       2.530536      2.723036   \n",
       "7      2.008699   2.386095    3.064766       2.530536      2.723036   \n",
       "8      2.008699   2.386095    2.295170       2.530536      2.723036   \n",
       "9      3.639465   3.136468    2.295170       2.530536      2.723036   \n",
       "\n",
       "   Bare.nuclei  Bl.cromatin  Normal.nucleoli   Mitoses  Class  \n",
       "0     2.393815     3.582104         2.591299  3.199268      0  \n",
       "1     8.074609     3.582104         3.344739  3.199268      0  \n",
       "2     3.025014     3.582104         2.591299  3.199268      0  \n",
       "3     4.287413     3.582104         7.111938  3.199268      0  \n",
       "4     2.393815     3.582104         2.591299  3.199268      0  \n",
       "5     8.074609     9.215455         7.111938  3.199268      1  \n",
       "6     8.074609     3.582104         2.591299  3.199268      0  \n",
       "7     2.393815     3.582104         2.591299  3.199268      0  \n",
       "8     2.393815     1.704320         2.591299  8.508979      0  \n",
       "9     2.393815     2.643212         2.591299  3.199268      0  "
      ]
     },
     "execution_count": 41,
     "metadata": {},
     "output_type": "execute_result"
    }
   ],
   "source": [
    "cancerdata = pd.read_csv(\"cancerdata.csv\")\n",
    "cancerdata.head(10)"
   ]
  },
  {
   "cell_type": "markdown",
   "id": "64360d2c",
   "metadata": {},
   "source": [
    "The cancer dataset has been loaded with all the features and class. The class shows both 0 and 1 showing whether cancerous or not. The first 10 rows of the dataset is shown."
   ]
  },
  {
   "cell_type": "code",
   "execution_count": 80,
   "id": "172d6cb2",
   "metadata": {},
   "outputs": [
    {
     "name": "stdout",
     "output_type": "stream",
     "text": [
      "<class 'pandas.core.frame.DataFrame'>\n",
      "RangeIndex: 683 entries, 0 to 682\n",
      "Data columns (total 10 columns):\n",
      " #   Column           Non-Null Count  Dtype  \n",
      "---  ------           --------------  -----  \n",
      " 0   Cl.thickness     683 non-null    float64\n",
      " 1   Cell.size        683 non-null    float64\n",
      " 2   Cell.shape       683 non-null    float64\n",
      " 3   Marg.adhesion    683 non-null    float64\n",
      " 4   Epith.c.size     683 non-null    float64\n",
      " 5   Bare.nuclei      683 non-null    float64\n",
      " 6   Bl.cromatin      683 non-null    float64\n",
      " 7   Normal.nucleoli  683 non-null    float64\n",
      " 8   Mitoses          683 non-null    float64\n",
      " 9   Class            683 non-null    int64  \n",
      "dtypes: float64(9), int64(1)\n",
      "memory usage: 53.5 KB\n"
     ]
    }
   ],
   "source": [
    "cancerdata.info()"
   ]
  },
  {
   "cell_type": "markdown",
   "id": "537d3ab3",
   "metadata": {},
   "source": [
    "###### Visualisation of Class Histogram"
   ]
  },
  {
   "cell_type": "code",
   "execution_count": 42,
   "id": "4cef2100",
   "metadata": {},
   "outputs": [
    {
     "data": {
      "text/plain": [
       "<AxesSubplot: >"
      ]
     },
     "execution_count": 42,
     "metadata": {},
     "output_type": "execute_result"
    },
    {
     "data": {
      "image/png": "[encoded data removed]",
      "text/plain": [
       "<Figure size 640x480 with 1 Axes>"
      ]
     },
     "metadata": {},
     "output_type": "display_data"
    }
   ],
   "source": [
    "cancerdata[\"Class\"].hist()"
   ]
  },
  {
   "cell_type": "markdown",
   "id": "c67028fd",
   "metadata": {},
   "source": [
    "A histogram plot of class coloumn is taken to analyze the number of cancerous and non cancerous cases. It shows a large differene in the numbers of both."
   ]
  },
  {
   "cell_type": "markdown",
   "id": "e5c4ee6a",
   "metadata": {},
   "source": [
    "###### To check for corelation between each features"
   ]
  },
  {
   "cell_type": "code",
   "execution_count": 43,
   "id": "5191c972",
   "metadata": {},
   "outputs": [],
   "source": [
    "corr = cancerdata.iloc[:,:-1].corr(method=\"pearson\")"
   ]
  },
  {
   "cell_type": "code",
   "execution_count": 44,
   "id": "443fb0b8",
   "metadata": {},
   "outputs": [
    {
     "data": {
      "text/html": [
       "<div>\n",
       "<style scoped>\n",
       "    .dataframe tbody tr th:only-of-type {\n",
       "        vertical-align: middle;\n",
       "    }\n",
       "\n",
       "    .dataframe tbody tr th {\n",
       "        vertical-align: top;\n",
       "    }\n",
       "\n",
       "    .dataframe thead th {\n",
       "        text-align: right;\n",
       "    }\n",
       "</style>\n",
       "<table border=\"1\" class=\"dataframe\">\n",
       "  <thead>\n",
       "    <tr style=\"text-align: right;\">\n",
       "      <th></th>\n",
       "      <th>Cl.thickness</th>\n",
       "      <th>Cell.size</th>\n",
       "      <th>Cell.shape</th>\n",
       "      <th>Marg.adhesion</th>\n",
       "      <th>Epith.c.size</th>\n",
       "      <th>Bare.nuclei</th>\n",
       "      <th>Bl.cromatin</th>\n",
       "      <th>Normal.nucleoli</th>\n",
       "      <th>Mitoses</th>\n",
       "    </tr>\n",
       "  </thead>\n",
       "  <tbody>\n",
       "    <tr>\n",
       "      <th>Cl.thickness</th>\n",
       "      <td>1.000000</td>\n",
       "      <td>0.642481</td>\n",
       "      <td>0.653470</td>\n",
       "      <td>0.487829</td>\n",
       "      <td>0.523596</td>\n",
       "      <td>0.593091</td>\n",
       "      <td>0.553742</td>\n",
       "      <td>0.534066</td>\n",
       "      <td>0.350957</td>\n",
       "    </tr>\n",
       "    <tr>\n",
       "      <th>Cell.size</th>\n",
       "      <td>0.642481</td>\n",
       "      <td>1.000000</td>\n",
       "      <td>0.907228</td>\n",
       "      <td>0.706977</td>\n",
       "      <td>0.753544</td>\n",
       "      <td>0.691709</td>\n",
       "      <td>0.755559</td>\n",
       "      <td>0.719346</td>\n",
       "      <td>0.460755</td>\n",
       "    </tr>\n",
       "    <tr>\n",
       "      <th>Cell.shape</th>\n",
       "      <td>0.653470</td>\n",
       "      <td>0.907228</td>\n",
       "      <td>1.000000</td>\n",
       "      <td>0.685948</td>\n",
       "      <td>0.722462</td>\n",
       "      <td>0.713878</td>\n",
       "      <td>0.735344</td>\n",
       "      <td>0.717963</td>\n",
       "      <td>0.441258</td>\n",
       "    </tr>\n",
       "    <tr>\n",
       "      <th>Marg.adhesion</th>\n",
       "      <td>0.487829</td>\n",
       "      <td>0.706977</td>\n",
       "      <td>0.685948</td>\n",
       "      <td>1.000000</td>\n",
       "      <td>0.594548</td>\n",
       "      <td>0.670648</td>\n",
       "      <td>0.668567</td>\n",
       "      <td>0.603121</td>\n",
       "      <td>0.418898</td>\n",
       "    </tr>\n",
       "    <tr>\n",
       "      <th>Epith.c.size</th>\n",
       "      <td>0.523596</td>\n",
       "      <td>0.753544</td>\n",
       "      <td>0.722462</td>\n",
       "      <td>0.594548</td>\n",
       "      <td>1.000000</td>\n",
       "      <td>0.585716</td>\n",
       "      <td>0.618128</td>\n",
       "      <td>0.628926</td>\n",
       "      <td>0.480583</td>\n",
       "    </tr>\n",
       "    <tr>\n",
       "      <th>Bare.nuclei</th>\n",
       "      <td>0.593091</td>\n",
       "      <td>0.691709</td>\n",
       "      <td>0.713878</td>\n",
       "      <td>0.670648</td>\n",
       "      <td>0.585716</td>\n",
       "      <td>1.000000</td>\n",
       "      <td>0.680615</td>\n",
       "      <td>0.584280</td>\n",
       "      <td>0.339210</td>\n",
       "    </tr>\n",
       "    <tr>\n",
       "      <th>Bl.cromatin</th>\n",
       "      <td>0.553742</td>\n",
       "      <td>0.755559</td>\n",
       "      <td>0.735344</td>\n",
       "      <td>0.668567</td>\n",
       "      <td>0.618128</td>\n",
       "      <td>0.680615</td>\n",
       "      <td>1.000000</td>\n",
       "      <td>0.665602</td>\n",
       "      <td>0.346011</td>\n",
       "    </tr>\n",
       "    <tr>\n",
       "      <th>Normal.nucleoli</th>\n",
       "      <td>0.534066</td>\n",
       "      <td>0.719346</td>\n",
       "      <td>0.717963</td>\n",
       "      <td>0.603121</td>\n",
       "      <td>0.628926</td>\n",
       "      <td>0.584280</td>\n",
       "      <td>0.665602</td>\n",
       "      <td>1.000000</td>\n",
       "      <td>0.433757</td>\n",
       "    </tr>\n",
       "    <tr>\n",
       "      <th>Mitoses</th>\n",
       "      <td>0.350957</td>\n",
       "      <td>0.460755</td>\n",
       "      <td>0.441258</td>\n",
       "      <td>0.418898</td>\n",
       "      <td>0.480583</td>\n",
       "      <td>0.339210</td>\n",
       "      <td>0.346011</td>\n",
       "      <td>0.433757</td>\n",
       "      <td>1.000000</td>\n",
       "    </tr>\n",
       "  </tbody>\n",
       "</table>\n",
       "</div>"
      ],
      "text/plain": [
       "                 Cl.thickness  Cell.size  Cell.shape  Marg.adhesion  \\\n",
       "Cl.thickness         1.000000   0.642481    0.653470       0.487829   \n",
       "Cell.size            0.642481   1.000000    0.907228       0.706977   \n",
       "Cell.shape           0.653470   0.907228    1.000000       0.685948   \n",
       "Marg.adhesion        0.487829   0.706977    0.685948       1.000000   \n",
       "Epith.c.size         0.523596   0.753544    0.722462       0.594548   \n",
       "Bare.nuclei          0.593091   0.691709    0.713878       0.670648   \n",
       "Bl.cromatin          0.553742   0.755559    0.735344       0.668567   \n",
       "Normal.nucleoli      0.534066   0.719346    0.717963       0.603121   \n",
       "Mitoses              0.350957   0.460755    0.441258       0.418898   \n",
       "\n",
       "                 Epith.c.size  Bare.nuclei  Bl.cromatin  Normal.nucleoli  \\\n",
       "Cl.thickness         0.523596     0.593091     0.553742         0.534066   \n",
       "Cell.size            0.753544     0.691709     0.755559         0.719346   \n",
       "Cell.shape           0.722462     0.713878     0.735344         0.717963   \n",
       "Marg.adhesion        0.594548     0.670648     0.668567         0.603121   \n",
       "Epith.c.size         1.000000     0.585716     0.618128         0.628926   \n",
       "Bare.nuclei          0.585716     1.000000     0.680615         0.584280   \n",
       "Bl.cromatin          0.618128     0.680615     1.000000         0.665602   \n",
       "Normal.nucleoli      0.628926     0.584280     0.665602         1.000000   \n",
       "Mitoses              0.480583     0.339210     0.346011         0.433757   \n",
       "\n",
       "                  Mitoses  \n",
       "Cl.thickness     0.350957  \n",
       "Cell.size        0.460755  \n",
       "Cell.shape       0.441258  \n",
       "Marg.adhesion    0.418898  \n",
       "Epith.c.size     0.480583  \n",
       "Bare.nuclei      0.339210  \n",
       "Bl.cromatin      0.346011  \n",
       "Normal.nucleoli  0.433757  \n",
       "Mitoses          1.000000  "
      ]
     },
     "execution_count": 44,
     "metadata": {},
     "output_type": "execute_result"
    }
   ],
   "source": [
    "corr"
   ]
  },
  {
   "cell_type": "markdown",
   "id": "8607b233",
   "metadata": {},
   "source": [
    "###### heat map"
   ]
  },
  {
   "cell_type": "code",
   "execution_count": 45,
   "id": "39659419",
   "metadata": {},
   "outputs": [
    {
     "data": {
      "text/plain": [
       "<AxesSubplot: >"
      ]
     },
     "execution_count": 45,
     "metadata": {},
     "output_type": "execute_result"
    },
    {
     "data": {
      "image/png": "[encoded data removed]",
      "text/plain": [
       "<Figure size 640x480 with 2 Axes>"
      ]
     },
     "metadata": {},
     "output_type": "display_data"
    }
   ],
   "source": [
    "sns.heatmap(corr, square=True, linewidths=.4)"
   ]
  },
  {
   "cell_type": "markdown",
   "id": "12152314",
   "metadata": {},
   "source": [
    "###### Heat map showing the correlation of all coefficient features in the matrix. It shows the depenencies of each feature to one another. The features should be independent to implement Naive Bayes."
   ]
  },
  {
   "cell_type": "markdown",
   "id": "2a9611f8",
   "metadata": {},
   "source": [
    "###### EDA Of all features\n"
   ]
  },
  {
   "cell_type": "code",
   "execution_count": 46,
   "id": "0780613e",
   "metadata": {},
   "outputs": [
    {
     "data": {
      "text/plain": [
       "<AxesSubplot: xlabel='Cl.thickness', ylabel='Count'>"
      ]
     },
     "execution_count": 46,
     "metadata": {},
     "output_type": "execute_result"
    },
    {
     "data": {
      "image/png": "[encoded data removed]",
      "text/plain": [
       "<Figure size 640x480 with 1 Axes>"
      ]
     },
     "metadata": {},
     "output_type": "display_data"
    }
   ],
   "source": [
    "sns.histplot(cancerdata, x=\"Cl.thickness\")\n"
   ]
  },
  {
   "cell_type": "markdown",
   "id": "86b2edf4",
   "metadata": {},
   "source": [
    "###### The Cl.thickness histogram shows that thickness is distributed with more counts is when thickness is less than 5. The count remains moderate throughout every range except bbetween 4 and 6."
   ]
  },
  {
   "cell_type": "code",
   "execution_count": 47,
   "id": "cf0e0207",
   "metadata": {},
   "outputs": [
    {
     "data": {
      "text/plain": [
       "<AxesSubplot: xlabel='Cell.size', ylabel='Count'>"
      ]
     },
     "execution_count": 47,
     "metadata": {},
     "output_type": "execute_result"
    },
    {
     "data": {
      "image/png": "[encoded data removed]",
      "text/plain": [
       "<Figure size 640x480 with 1 Axes>"
      ]
     },
     "metadata": {},
     "output_type": "display_data"
    }
   ],
   "source": [
    "sns.histplot(cancerdata, x=\"Cell.size\")"
   ]
  },
  {
   "cell_type": "markdown",
   "id": "60c18d1c",
   "metadata": {},
   "source": [
    "###### The cell size histogram plots clearly states that majority of the dataset lies when size is less than 3 indicating the normal range."
   ]
  },
  {
   "cell_type": "code",
   "execution_count": 48,
   "id": "0b1535a2",
   "metadata": {},
   "outputs": [
    {
     "data": {
      "text/plain": [
       "<AxesSubplot: xlabel='Cell.shape', ylabel='Count'>"
      ]
     },
     "execution_count": 48,
     "metadata": {},
     "output_type": "execute_result"
    },
    {
     "data": {
      "image/png": "[encoded data removed]",
      "text/plain": [
       "<Figure size 640x480 with 1 Axes>"
      ]
     },
     "metadata": {},
     "output_type": "display_data"
    }
   ],
   "source": [
    "sns.histplot(cancerdata, x=\"Cell.shape\")"
   ]
  },
  {
   "cell_type": "markdown",
   "id": "fcac4c3f",
   "metadata": {},
   "source": [
    "###### The cell shape histogram plots clearly states that majority of the dataset lies when shape is between 2 and 3 and reduces when the range increases till cell shape is 9."
   ]
  },
  {
   "cell_type": "code",
   "execution_count": 49,
   "id": "df14cf40",
   "metadata": {},
   "outputs": [
    {
     "data": {
      "text/plain": [
       "<AxesSubplot: xlabel='Marg.adhesion', ylabel='Count'>"
      ]
     },
     "execution_count": 49,
     "metadata": {},
     "output_type": "execute_result"
    },
    {
     "data": {
      "image/png": "[encoded data removed]",
      "text/plain": [
       "<Figure size 640x480 with 1 Axes>"
      ]
     },
     "metadata": {},
     "output_type": "display_data"
    }
   ],
   "source": [
    "sns.histplot(cancerdata, x=\"Marg.adhesion\")"
   ]
  },
  {
   "cell_type": "markdown",
   "id": "fe6ca1d1",
   "metadata": {},
   "source": [
    "###### The Marg.adhesion histogram plots clearly states that majority of the dataset lies when size is less than 3 indicating the normal range and reduces uniformly till 9."
   ]
  },
  {
   "cell_type": "code",
   "execution_count": 50,
   "id": "d4646a9b",
   "metadata": {},
   "outputs": [
    {
     "data": {
      "text/plain": [
       "<AxesSubplot: xlabel='Epith.c.size', ylabel='Count'>"
      ]
     },
     "execution_count": 50,
     "metadata": {},
     "output_type": "execute_result"
    },
    {
     "data": {
      "image/png": "[encoded data removed]",
      "text/plain": [
       "<Figure size 640x480 with 1 Axes>"
      ]
     },
     "metadata": {},
     "output_type": "display_data"
    }
   ],
   "source": [
    "sns.histplot(cancerdata, x=\"Epith.c.size\")"
   ]
  },
  {
   "cell_type": "markdown",
   "id": "f5945826",
   "metadata": {},
   "source": [
    "###### The Epith.c.size histogram plots clearly states that majority of the dataset lies between 2 and 4 indicating the normal range and reduces uniformly till 10."
   ]
  },
  {
   "cell_type": "code",
   "execution_count": 51,
   "id": "d979c5ba",
   "metadata": {},
   "outputs": [
    {
     "data": {
      "text/plain": [
       "<AxesSubplot: xlabel='Bare.nuclei', ylabel='Count'>"
      ]
     },
     "execution_count": 51,
     "metadata": {},
     "output_type": "execute_result"
    },
    {
     "data": {
      "image/png": "[encoded data removed]",
      "text/plain": [
       "<Figure size 640x480 with 1 Axes>"
      ]
     },
     "metadata": {},
     "output_type": "display_data"
    }
   ],
   "source": [
    "sns.histplot(cancerdata, x=\"Bare.nuclei\")"
   ]
  },
  {
   "cell_type": "markdown",
   "id": "760a1f25",
   "metadata": {},
   "source": [
    "###### The Bare.nuclei histogram plots clearly states that majority of the dataset lies below 3 indicating the normal range and reduces uniformly till 7."
   ]
  },
  {
   "cell_type": "code",
   "execution_count": 52,
   "id": "18f557fd",
   "metadata": {},
   "outputs": [
    {
     "data": {
      "text/plain": [
       "<AxesSubplot: xlabel='Bl.cromatin', ylabel='Count'>"
      ]
     },
     "execution_count": 52,
     "metadata": {},
     "output_type": "execute_result"
    },
    {
     "data": {
      "image/png": "[encoded data removed]",
      "text/plain": [
       "<Figure size 640x480 with 1 Axes>"
      ]
     },
     "metadata": {},
     "output_type": "display_data"
    }
   ],
   "source": [
    "sns.histplot(cancerdata, x=\"Bl.cromatin\")"
   ]
  },
  {
   "cell_type": "markdown",
   "id": "04369f0d",
   "metadata": {},
   "source": [
    "###### The Bl.cromatin histogram plots clearly states that majority of the dataset lies between 2 and 4 indicating the normal range and reduces uniformly."
   ]
  },
  {
   "cell_type": "code",
   "execution_count": 53,
   "id": "50aeeb4c",
   "metadata": {},
   "outputs": [
    {
     "data": {
      "text/plain": [
       "<AxesSubplot: xlabel='Normal.nucleoli', ylabel='Count'>"
      ]
     },
     "execution_count": 53,
     "metadata": {},
     "output_type": "execute_result"
    },
    {
     "data": {
      "image/png": "[encoded data removed]",
      "text/plain": [
       "<Figure size 640x480 with 1 Axes>"
      ]
     },
     "metadata": {},
     "output_type": "display_data"
    }
   ],
   "source": [
    "sns.histplot(cancerdata, x=\"Normal.nucleoli\")"
   ]
  },
  {
   "cell_type": "markdown",
   "id": "18da153c",
   "metadata": {},
   "source": [
    "###### The Normal.nucleoli histogram plots clearly states that majority of the dataset lies below 3 indicating the normal range."
   ]
  },
  {
   "cell_type": "code",
   "execution_count": 54,
   "id": "847b69fd",
   "metadata": {},
   "outputs": [
    {
     "data": {
      "text/plain": [
       "<AxesSubplot: xlabel='Mitoses', ylabel='Count'>"
      ]
     },
     "execution_count": 54,
     "metadata": {},
     "output_type": "execute_result"
    },
    {
     "data": {
      "image/png": "[encoded data removed]",
      "text/plain": [
       "<Figure size 640x480 with 1 Axes>"
      ]
     },
     "metadata": {},
     "output_type": "display_data"
    }
   ],
   "source": [
    "sns.histplot(cancerdata, x=\"Mitoses\")"
   ]
  },
  {
   "cell_type": "markdown",
   "id": "798642c3",
   "metadata": {},
   "source": [
    "###### The Mitoses histogram plots clearly states that majority of the dataset lies below 4 indicating the normal range."
   ]
  },
  {
   "cell_type": "markdown",
   "id": "12067243",
   "metadata": {},
   "source": [
    "##### The histogram plot of all the features shows the normal ranges and how the counts differs with the range in every feature and the patterns associated with it. "
   ]
  },
  {
   "cell_type": "markdown",
   "id": "0c66e751",
   "metadata": {},
   "source": [
    "## Naive Bayes"
   ]
  },
  {
   "cell_type": "markdown",
   "id": "7b019fd1",
   "metadata": {},
   "source": [
    "###### The cancer dataset is split into training and test data\n"
   ]
  },
  {
   "cell_type": "code",
   "execution_count": 55,
   "id": "a4f9f713",
   "metadata": {},
   "outputs": [],
   "source": [
    "x = cancerdata.drop('Class',axis=1)\n",
    "y = cancerdata.Class\n",
    "from sklearn.model_selection import train_test_split\n",
    "x_train, x_test, y_train, y_test = train_test_split(x, y, test_size = 0.30, random_state=0)"
   ]
  },
  {
   "cell_type": "markdown",
   "id": "ddf6896a",
   "metadata": {},
   "source": [
    "The whole dataset is split into 30% os test data and 70% for training data."
   ]
  },
  {
   "cell_type": "markdown",
   "id": "2c124acf",
   "metadata": {},
   "source": [
    "###### Feature Scaling"
   ]
  },
  {
   "cell_type": "code",
   "execution_count": 56,
   "id": "9f3197a1",
   "metadata": {},
   "outputs": [],
   "source": [
    "from sklearn.preprocessing import StandardScaler\n",
    "sc = StandardScaler()\n",
    "x_train = sc.fit_transform(x_train)\n",
    "x_test = sc.transform(x_test)"
   ]
  },
  {
   "cell_type": "markdown",
   "id": "955c102f",
   "metadata": {},
   "source": [
    "###### Training the Naive Bayes Classifier Model\n"
   ]
  },
  {
   "cell_type": "code",
   "execution_count": 57,
   "id": "5a3fc37c",
   "metadata": {},
   "outputs": [
    {
     "data": {
      "text/plain": [
       "GaussianNB()"
      ]
     },
     "execution_count": 57,
     "metadata": {},
     "output_type": "execute_result"
    }
   ],
   "source": [
    "from sklearn.naive_bayes import GaussianNB\n",
    "classifier = GaussianNB()\n",
    "classifier.fit(x_train, y_train)"
   ]
  },
  {
   "cell_type": "markdown",
   "id": "81266f5a",
   "metadata": {},
   "source": [
    "Training the Naive Bayes Classifier models using GaussinNB Function."
   ]
  },
  {
   "cell_type": "markdown",
   "id": "d4dc3b05",
   "metadata": {},
   "source": [
    "###### Prediction of the model\n"
   ]
  },
  {
   "cell_type": "code",
   "execution_count": 58,
   "id": "f8200e77",
   "metadata": {},
   "outputs": [],
   "source": [
    "y_pred = classifier.predict(x_test)\n",
    "\n"
   ]
  },
  {
   "cell_type": "code",
   "execution_count": 59,
   "id": "c55629d8",
   "metadata": {},
   "outputs": [
    {
     "name": "stdout",
     "output_type": "stream",
     "text": [
      "The predicted values are [0 0 1 1 0 0 0 1 0 0 1 0 1 0 0 1 1 1 1 0 0 0 1 0 1 1 0 1 0 1 0 1 1 0 0 0 1\n",
      " 1 0 1 0 0 0 0 0 0 0 1 0 0 1 0 1 0 0 0 1 1 0 1 0 0 0 0 0 0 0 0 1 1 0 0 0 0\n",
      " 0 0 1 0 0 0 1 0 1 0 0 1 0 1 1 0 1 0 1 1 1 1 1 1 1 0 0 0 1 1 0 0 1 1 0 0 1\n",
      " 0 0 1 0 1 0 1 0 0 0 1 0 0 1 1 0 1 0 1 1 0 1 0 0 1 0 1 0 0 0 1 0 0 0 1 1 0\n",
      " 1 0 1 0 0 0 0 0 1 1 0 1 1 1 1 0 1 0 0 0 0 0 0 1 1 1 0 0 0 1 0 0 1 1 0 1 1\n",
      " 0 1 1 0 0 0 0 0 0 0 0 0 0 1 0 0 0 0 0 1]\n"
     ]
    }
   ],
   "source": [
    " print (\"The predicted values are\",y_pred  )\n"
   ]
  },
  {
   "cell_type": "code",
   "execution_count": 60,
   "id": "9322f62f",
   "metadata": {},
   "outputs": [
    {
     "name": "stdout",
     "output_type": "stream",
     "text": [
      "Comparison of testing and predicitive dataset  [[0 0]\n",
      " [0 0]\n",
      " [1 1]\n",
      " [1 1]\n",
      " [0 0]\n",
      " [0 0]\n",
      " [0 0]\n",
      " [1 1]\n",
      " [0 0]\n",
      " [0 0]\n",
      " [1 1]\n",
      " [0 0]\n",
      " [1 1]\n",
      " [0 0]\n",
      " [0 0]\n",
      " [0 1]\n",
      " [1 1]\n",
      " [1 1]\n",
      " [1 1]\n",
      " [0 0]\n",
      " [0 0]\n",
      " [0 0]\n",
      " [1 1]\n",
      " [0 0]\n",
      " [1 1]\n",
      " [1 1]\n",
      " [0 0]\n",
      " [0 1]\n",
      " [0 0]\n",
      " [1 1]\n",
      " [0 0]\n",
      " [1 1]\n",
      " [1 1]\n",
      " [0 0]\n",
      " [0 0]\n",
      " [0 0]\n",
      " [1 1]\n",
      " [1 1]\n",
      " [0 0]\n",
      " [1 1]\n",
      " [0 0]\n",
      " [0 0]\n",
      " [0 0]\n",
      " [0 0]\n",
      " [0 0]\n",
      " [0 0]\n",
      " [0 0]\n",
      " [1 1]\n",
      " [0 0]\n",
      " [0 0]\n",
      " [1 1]\n",
      " [0 0]\n",
      " [1 1]\n",
      " [0 0]\n",
      " [0 0]\n",
      " [0 0]\n",
      " [1 1]\n",
      " [0 1]\n",
      " [0 0]\n",
      " [1 1]\n",
      " [0 0]\n",
      " [0 0]\n",
      " [0 0]\n",
      " [0 0]\n",
      " [0 0]\n",
      " [0 0]\n",
      " [0 0]\n",
      " [0 0]\n",
      " [1 1]\n",
      " [1 1]\n",
      " [0 0]\n",
      " [0 0]\n",
      " [0 0]\n",
      " [0 0]\n",
      " [0 0]\n",
      " [0 0]\n",
      " [1 1]\n",
      " [0 0]\n",
      " [0 0]\n",
      " [0 0]\n",
      " [1 1]\n",
      " [0 0]\n",
      " [1 1]\n",
      " [0 0]\n",
      " [0 0]\n",
      " [1 1]\n",
      " [0 0]\n",
      " [0 1]\n",
      " [1 1]\n",
      " [0 0]\n",
      " [1 1]\n",
      " [0 0]\n",
      " [1 1]\n",
      " [1 1]\n",
      " [1 1]\n",
      " [0 1]\n",
      " [1 1]\n",
      " [1 1]\n",
      " [1 1]\n",
      " [0 0]\n",
      " [0 0]\n",
      " [0 0]\n",
      " [1 1]\n",
      " [1 1]\n",
      " [0 0]\n",
      " [0 0]\n",
      " [1 1]\n",
      " [1 1]\n",
      " [0 0]\n",
      " [0 0]\n",
      " [1 1]\n",
      " [0 0]\n",
      " [0 0]\n",
      " [1 1]\n",
      " [0 0]\n",
      " [0 1]\n",
      " [0 0]\n",
      " [1 1]\n",
      " [0 0]\n",
      " [0 0]\n",
      " [0 0]\n",
      " [1 1]\n",
      " [0 0]\n",
      " [0 0]\n",
      " [1 1]\n",
      " [1 1]\n",
      " [0 0]\n",
      " [1 1]\n",
      " [0 0]\n",
      " [1 1]\n",
      " [0 1]\n",
      " [0 0]\n",
      " [1 1]\n",
      " [0 0]\n",
      " [0 0]\n",
      " [1 1]\n",
      " [0 0]\n",
      " [1 1]\n",
      " [0 0]\n",
      " [0 0]\n",
      " [0 0]\n",
      " [1 1]\n",
      " [0 0]\n",
      " [0 0]\n",
      " [0 0]\n",
      " [0 1]\n",
      " [1 1]\n",
      " [0 0]\n",
      " [1 1]\n",
      " [0 0]\n",
      " [1 1]\n",
      " [1 0]\n",
      " [0 0]\n",
      " [0 0]\n",
      " [0 0]\n",
      " [0 0]\n",
      " [1 1]\n",
      " [1 1]\n",
      " [0 0]\n",
      " [1 1]\n",
      " [1 1]\n",
      " [1 1]\n",
      " [1 1]\n",
      " [1 0]\n",
      " [1 1]\n",
      " [0 0]\n",
      " [0 0]\n",
      " [0 0]\n",
      " [0 0]\n",
      " [0 0]\n",
      " [0 0]\n",
      " [1 1]\n",
      " [1 1]\n",
      " [1 1]\n",
      " [0 0]\n",
      " [0 0]\n",
      " [0 0]\n",
      " [1 1]\n",
      " [0 0]\n",
      " [0 0]\n",
      " [1 1]\n",
      " [1 1]\n",
      " [0 0]\n",
      " [1 1]\n",
      " [0 1]\n",
      " [0 0]\n",
      " [1 1]\n",
      " [1 1]\n",
      " [0 0]\n",
      " [0 0]\n",
      " [0 0]\n",
      " [0 0]\n",
      " [0 0]\n",
      " [0 0]\n",
      " [0 0]\n",
      " [0 0]\n",
      " [0 0]\n",
      " [0 0]\n",
      " [1 1]\n",
      " [0 0]\n",
      " [0 0]\n",
      " [0 0]\n",
      " [0 0]\n",
      " [0 0]\n",
      " [1 1]]\n"
     ]
    }
   ],
   "source": [
    "comparison = np.concatenate((y_test.values.reshape(-1,1), y_pred.reshape(-1,1)), axis = 1) \n",
    "print(\"Comparison of testing and predicitive dataset \",comparison)"
   ]
  },
  {
   "cell_type": "markdown",
   "id": "2759851d",
   "metadata": {},
   "source": [
    "###### Making the Confusion Matrix\n"
   ]
  },
  {
   "cell_type": "code",
   "execution_count": 61,
   "id": "fe69553c",
   "metadata": {},
   "outputs": [
    {
     "data": {
      "image/png": "[encoded data removed]",
      "text/plain": [
       "<Figure size 640x480 with 2 Axes>"
      ]
     },
     "metadata": {},
     "output_type": "display_data"
    }
   ],
   "source": [
    "from sklearn.metrics import plot_confusion_matrix\n",
    "plot_confusion_matrix(classifier, x_test, y_test)\n",
    "plt.xlabel(\"True Label\")\n",
    "plt.ylabel(\"Predicitive Label\")\n",
    "plt.show()\n",
    "\n"
   ]
  },
  {
   "cell_type": "markdown",
   "id": "5375116f",
   "metadata": {},
   "source": [
    "The confusion Matrix is divided into 4. The top left Corner is True-Positive where the Actual dataset is Positive and Predictive value is positive having 121 Counts.\n",
    "\n",
    "The top right is False- Positive where the dataset value is True but predicition is false having 9 counts.\n",
    "\n",
    "The bottom left is False-Negative where dataset is negative but predicted positive having 2 counts\n",
    "\n",
    "The bottom right is True-Negative where both actual dataset and predicited is negative having 73 counts.\n"
   ]
  },
  {
   "cell_type": "markdown",
   "id": "8bf9a25f",
   "metadata": {},
   "source": [
    "###### Performance of Naive Bayes Model"
   ]
  },
  {
   "cell_type": "code",
   "execution_count": 62,
   "id": "baa7ae72",
   "metadata": {},
   "outputs": [
    {
     "name": "stdout",
     "output_type": "stream",
     "text": [
      "The Accuracy score is 94.6341463414634\n",
      "The Precision is 89.02439024390245\n",
      "The Recall Score is 97.33333333333334\n",
      "F1 score is 92.99363057324841\n"
     ]
    }
   ],
   "source": [
    "from sklearn.metrics import confusion_matrix,accuracy_score,f1_score,recall_score\n",
    "Accuracy = accuracy_score(y_test,y_pred)\n",
    "print(\"The Accuracy score is\",Accuracy*100)\n",
    "Precision = metrics.precision_score(y_test, y_pred)\n",
    "print(\"The Precision is\",Precision*100)\n",
    "Recall = metrics.recall_score(y_test, y_pred)\n",
    "print(\"The Recall Score is\",Recall*100)\n",
    "F1 = metrics.f1_score(y_test, y_pred)\n",
    "print(\"F1 score is\",F1*100)"
   ]
  },
  {
   "cell_type": "markdown",
   "id": "2893588c",
   "metadata": {},
   "source": [
    "###### Accuracy = (TP + TN)/ TP + TN + FP + FN\n",
    "\n",
    "######  Precision = TP / TP + FP \n",
    "\n",
    "######  Recall = TP / TP + FN\n",
    "\n",
    "######  F1 Score = 2*( (Precision * Recall)/Precision + Recall\n"
   ]
  },
  {
   "cell_type": "markdown",
   "id": "0aea69b2",
   "metadata": {},
   "source": [
    "Accuracy , F1 score, Precision and Recall Score are the parametres for checking the performance of the Naive Bayes model. \n",
    "\n",
    "Accuracy is amount of properly made predictions / total number of predictions. The accuracy we have here is 94.6%\n",
    "\n",
    "Precision is the ratio of True-Positives and total positives predicted and our Precision rate is 89%.\n",
    "\n",
    "Recall is the ratio of True-Positives to all the positives and our Recall score is 97%. \n",
    "\n",
    "F1 Score is calculated by accounting both Precision and Recall score. A good F1 score is received when we have a good precision and recall score. The F1 score we have here is 92.9 % which is almost equal to 93%. \n",
    "\n",
    "All the scores are takes as Percentage by multiplying by 100."
   ]
  },
  {
   "cell_type": "markdown",
   "id": "b99977f5",
   "metadata": {},
   "source": [
    "###### Calculating ROC Curve\n"
   ]
  },
  {
   "cell_type": "code",
   "execution_count": 63,
   "id": "91021f4f",
   "metadata": {},
   "outputs": [
    {
     "data": {
      "text/plain": [
       "[<matplotlib.lines.Line2D at 0x1ea6d1f9fa0>]"
      ]
     },
     "execution_count": 63,
     "metadata": {},
     "output_type": "execute_result"
    },
    {
     "data": {
      "image/png": "[encoded data removed]",
      "text/plain": [
       "<Figure size 640x480 with 1 Axes>"
      ]
     },
     "metadata": {},
     "output_type": "display_data"
    }
   ],
   "source": [
    "plt.figure(0).clf()\n",
    "\n",
    "mdl1 = GaussianNB()\n",
    "mdl1.fit(x_train, y_train)\n",
    "y_pred = mdl1.predict_proba(x_test)[:, 1]\n",
    "fpr1, tpr1, _ = metrics.roc_curve(y_test, y_pred)\n",
    "auc1 = metrics.roc_auc_score(y_test, y_pred)\n",
    "plt.plot(fpr1,tpr1)\n"
   ]
  },
  {
   "cell_type": "markdown",
   "id": "5eaff0fd",
   "metadata": {},
   "source": [
    "Receiver operating characteristics curve (ROC Curve) is a graph which uses true positive rates(TPR) and false positive rates(FPR). \n",
    "\n",
    "Here the TPR is ratio of positive data which are correclt predicted positive. TPR is inversly proptional to the number of positive datapoints we miss.\n",
    "\n",
    "FPR is the number of negative datapoints that were consiedered postive. FPR is proptional to the number of negative data points misclassified.\n",
    "\n"
   ]
  },
  {
   "cell_type": "markdown",
   "id": "d037ad17",
   "metadata": {},
   "source": [
    "###### Calculating AUC Curve"
   ]
  },
  {
   "cell_type": "code",
   "execution_count": 64,
   "id": "cee9cc43",
   "metadata": {},
   "outputs": [
    {
     "name": "stdout",
     "output_type": "stream",
     "text": [
      "The AUC Score for Naive Bayes is 0.9768717948717949\n"
     ]
    }
   ],
   "source": [
    "from sklearn.metrics import roc_auc_score\n",
    "\n",
    "\n",
    "auc_1 = roc_auc_score(y_test, y_pred)\n",
    "\n",
    "print(\"The AUC Score for Naive Bayes is\",auc_1)"
   ]
  },
  {
   "cell_type": "markdown",
   "id": "2f39b31d",
   "metadata": {},
   "source": [
    "Area Under The Curve (AUC Curve) is the area that comes under the ROC Curve and is cummlativly called as AUROC Curvea and the value is 0.9768 . Higher the AUROC Curve value higher is the percentage it can distinguish between positive and negative classes.\n"
   ]
  },
  {
   "cell_type": "markdown",
   "id": "62e7f4f0",
   "metadata": {},
   "source": [
    "###### Explanation of Naive Bayes"
   ]
  },
  {
   "cell_type": "markdown",
   "id": "08f7616e",
   "metadata": {},
   "source": [
    "Here we can understand that Naive Bayes is a Probability Classifier which is based on Bayes theorm which is P(A|B) = P(B/A)*P(A) / P(B) . Here P(A) is prior of A which is probability of event before event is seen and P(B) is consediered the evidence. \n",
    "\n",
    "P(A|B) is the posterior probability where probability is considered after evidence is seen. \n",
    "\n",
    "\n",
    "Here it is assumed that there should be an independence between the features and each feature is equally important. It takes in details from prior events to predict posterior events. Here we have taken GaussianNB for our classification where we use normal distribution for the same. \n",
    "\n",
    "Using GaussianNB we were able to classify efficiently with a extremely good scores which are:\n",
    "\n",
    "The Accuracy score is 94.63,\n",
    "The Precision is 89.02,\n",
    "The Recall Score is 97.33,\n",
    "F1 score is 92.99,\n",
    "\n",
    "The AUROC Score is 0.97 which is extremely good and is capable to efficently distinguish between positive and negative classes.\n",
    "\n",
    "\n",
    "\n",
    "\n",
    "\n",
    "\n"
   ]
  },
  {
   "cell_type": "markdown",
   "id": "80477666",
   "metadata": {},
   "source": [
    "## Logistic Regression Classifier"
   ]
  },
  {
   "cell_type": "markdown",
   "id": "5dbb256d",
   "metadata": {},
   "source": [
    "###### The Cancer dataset is split into training and test data"
   ]
  },
  {
   "cell_type": "code",
   "execution_count": 65,
   "id": "35bac488",
   "metadata": {},
   "outputs": [],
   "source": [
    "a = cancerdata.drop('Class',axis=1)\n",
    "b = cancerdata.Class\n",
    "from sklearn.model_selection import train_test_split\n",
    "a_train, a_test, b_train, b_test = train_test_split(a, b, test_size = 0.3, random_state = 0)"
   ]
  },
  {
   "cell_type": "markdown",
   "id": "cd277113",
   "metadata": {},
   "source": [
    "The dataset is split into training and testing with 30% going for testing and rest for training.\n"
   ]
  },
  {
   "cell_type": "markdown",
   "id": "b3ad4a29",
   "metadata": {},
   "source": [
    "###### Feature Scaling"
   ]
  },
  {
   "cell_type": "code",
   "execution_count": 66,
   "id": "1661fa01",
   "metadata": {},
   "outputs": [],
   "source": [
    "from sklearn.preprocessing import StandardScaler\n",
    "sc = StandardScaler()\n",
    "a_train = sc.fit_transform(a_train)\n",
    "a_test = sc.transform(a_test)"
   ]
  },
  {
   "cell_type": "markdown",
   "id": "f6987fa1",
   "metadata": {},
   "source": [
    "###### Training the Logisitic Regression modelling"
   ]
  },
  {
   "cell_type": "code",
   "execution_count": 67,
   "id": "78af5a65",
   "metadata": {},
   "outputs": [
    {
     "data": {
      "text/plain": [
       "LogisticRegression()"
      ]
     },
     "execution_count": 67,
     "metadata": {},
     "output_type": "execute_result"
    }
   ],
   "source": [
    "from sklearn.linear_model import LogisticRegression\n",
    "classifier = LogisticRegression()\n",
    "classifier.fit(a_train, b_train)\n",
    "LogisticRegression()"
   ]
  },
  {
   "cell_type": "markdown",
   "id": "c65a685e",
   "metadata": {},
   "source": [
    "######  Predicting the results of Logistic Regression modelling"
   ]
  },
  {
   "cell_type": "code",
   "execution_count": 68,
   "id": "cfbd18c1",
   "metadata": {},
   "outputs": [
    {
     "name": "stdout",
     "output_type": "stream",
     "text": [
      "The predicted values are [0 0 1 1 0 0 0 1 0 0 1 0 1 0 0 0 1 1 1 0 0 0 1 0 1 1 0 0 0 1 0 1 1 0 0 0 1\n",
      " 1 0 1 0 0 0 0 0 0 0 1 0 0 1 0 1 0 0 0 1 1 0 1 0 0 0 0 0 0 0 0 1 1 0 0 0 0\n",
      " 0 0 1 0 0 0 1 0 1 0 0 1 0 1 1 0 1 0 1 1 0 1 1 1 1 0 0 0 1 1 0 0 1 0 0 0 1\n",
      " 0 0 1 0 0 0 0 0 0 0 1 0 0 1 1 0 1 0 1 0 0 1 0 0 1 0 1 0 0 0 1 0 0 0 1 1 0\n",
      " 1 0 1 0 0 0 0 0 1 1 0 1 1 1 1 0 1 0 0 0 0 0 0 1 1 1 0 0 0 1 0 0 1 1 0 1 0\n",
      " 0 1 1 0 0 0 0 0 0 0 0 0 0 1 0 0 0 0 0 1]\n"
     ]
    }
   ],
   "source": [
    "b_pred = classifier.predict(a_test)\n",
    "print(\"The predicted values are\",b_pred)"
   ]
  },
  {
   "cell_type": "markdown",
   "id": "b53fa457",
   "metadata": {},
   "source": [
    "###### comparing the real values vs prediction"
   ]
  },
  {
   "cell_type": "code",
   "execution_count": 69,
   "id": "9707a785",
   "metadata": {},
   "outputs": [
    {
     "name": "stdout",
     "output_type": "stream",
     "text": [
      "Comparison of testing and predicitive dataset  [[0 0]\n",
      " [0 0]\n",
      " [1 1]\n",
      " [1 1]\n",
      " [0 0]\n",
      " [0 0]\n",
      " [0 0]\n",
      " [1 1]\n",
      " [0 0]\n",
      " [0 0]\n",
      " [1 1]\n",
      " [0 0]\n",
      " [1 1]\n",
      " [0 0]\n",
      " [0 0]\n",
      " [0 0]\n",
      " [1 1]\n",
      " [1 1]\n",
      " [1 1]\n",
      " [0 0]\n",
      " [0 0]\n",
      " [0 0]\n",
      " [1 1]\n",
      " [0 0]\n",
      " [1 1]\n",
      " [1 1]\n",
      " [0 0]\n",
      " [0 0]\n",
      " [0 0]\n",
      " [1 1]\n",
      " [0 0]\n",
      " [1 1]\n",
      " [1 1]\n",
      " [0 0]\n",
      " [0 0]\n",
      " [0 0]\n",
      " [1 1]\n",
      " [1 1]\n",
      " [0 0]\n",
      " [1 1]\n",
      " [0 0]\n",
      " [0 0]\n",
      " [0 0]\n",
      " [0 0]\n",
      " [0 0]\n",
      " [0 0]\n",
      " [0 0]\n",
      " [1 1]\n",
      " [0 0]\n",
      " [0 0]\n",
      " [1 1]\n",
      " [0 0]\n",
      " [1 1]\n",
      " [0 0]\n",
      " [0 0]\n",
      " [0 0]\n",
      " [1 1]\n",
      " [0 1]\n",
      " [0 0]\n",
      " [1 1]\n",
      " [0 0]\n",
      " [0 0]\n",
      " [0 0]\n",
      " [0 0]\n",
      " [0 0]\n",
      " [0 0]\n",
      " [0 0]\n",
      " [0 0]\n",
      " [1 1]\n",
      " [1 1]\n",
      " [0 0]\n",
      " [0 0]\n",
      " [0 0]\n",
      " [0 0]\n",
      " [0 0]\n",
      " [0 0]\n",
      " [1 1]\n",
      " [0 0]\n",
      " [0 0]\n",
      " [0 0]\n",
      " [1 1]\n",
      " [0 0]\n",
      " [1 1]\n",
      " [0 0]\n",
      " [0 0]\n",
      " [1 1]\n",
      " [0 0]\n",
      " [0 1]\n",
      " [1 1]\n",
      " [0 0]\n",
      " [1 1]\n",
      " [0 0]\n",
      " [1 1]\n",
      " [1 1]\n",
      " [1 0]\n",
      " [0 1]\n",
      " [1 1]\n",
      " [1 1]\n",
      " [1 1]\n",
      " [0 0]\n",
      " [0 0]\n",
      " [0 0]\n",
      " [1 1]\n",
      " [1 1]\n",
      " [0 0]\n",
      " [0 0]\n",
      " [1 1]\n",
      " [1 0]\n",
      " [0 0]\n",
      " [0 0]\n",
      " [1 1]\n",
      " [0 0]\n",
      " [0 0]\n",
      " [1 1]\n",
      " [0 0]\n",
      " [0 0]\n",
      " [0 0]\n",
      " [1 0]\n",
      " [0 0]\n",
      " [0 0]\n",
      " [0 0]\n",
      " [1 1]\n",
      " [0 0]\n",
      " [0 0]\n",
      " [1 1]\n",
      " [1 1]\n",
      " [0 0]\n",
      " [1 1]\n",
      " [0 0]\n",
      " [1 1]\n",
      " [0 0]\n",
      " [0 0]\n",
      " [1 1]\n",
      " [0 0]\n",
      " [0 0]\n",
      " [1 1]\n",
      " [0 0]\n",
      " [1 1]\n",
      " [0 0]\n",
      " [0 0]\n",
      " [0 0]\n",
      " [1 1]\n",
      " [0 0]\n",
      " [0 0]\n",
      " [0 0]\n",
      " [0 1]\n",
      " [1 1]\n",
      " [0 0]\n",
      " [1 1]\n",
      " [0 0]\n",
      " [1 1]\n",
      " [1 0]\n",
      " [0 0]\n",
      " [0 0]\n",
      " [0 0]\n",
      " [0 0]\n",
      " [1 1]\n",
      " [1 1]\n",
      " [0 0]\n",
      " [1 1]\n",
      " [1 1]\n",
      " [1 1]\n",
      " [1 1]\n",
      " [1 0]\n",
      " [1 1]\n",
      " [0 0]\n",
      " [0 0]\n",
      " [0 0]\n",
      " [0 0]\n",
      " [0 0]\n",
      " [0 0]\n",
      " [1 1]\n",
      " [1 1]\n",
      " [1 1]\n",
      " [0 0]\n",
      " [0 0]\n",
      " [0 0]\n",
      " [1 1]\n",
      " [0 0]\n",
      " [0 0]\n",
      " [1 1]\n",
      " [1 1]\n",
      " [0 0]\n",
      " [1 1]\n",
      " [0 0]\n",
      " [0 0]\n",
      " [1 1]\n",
      " [1 1]\n",
      " [0 0]\n",
      " [0 0]\n",
      " [0 0]\n",
      " [0 0]\n",
      " [0 0]\n",
      " [0 0]\n",
      " [0 0]\n",
      " [0 0]\n",
      " [0 0]\n",
      " [0 0]\n",
      " [1 1]\n",
      " [0 0]\n",
      " [0 0]\n",
      " [0 0]\n",
      " [0 0]\n",
      " [0 0]\n",
      " [1 1]]\n"
     ]
    }
   ],
   "source": [
    "comparison = np.concatenate((b_test.values.reshape(-1,1), b_pred.reshape(-1,1)), axis = 1) \n",
    "print(\"Comparison of testing and predicitive dataset \",comparison)"
   ]
  },
  {
   "cell_type": "markdown",
   "id": "2e36b360",
   "metadata": {},
   "source": [
    "###### Confusion Matrix "
   ]
  },
  {
   "cell_type": "code",
   "execution_count": 70,
   "id": "bc409fe0",
   "metadata": {},
   "outputs": [
    {
     "data": {
      "image/png": "[encoded data removed]",
      "text/plain": [
       "<Figure size 640x480 with 2 Axes>"
      ]
     },
     "metadata": {},
     "output_type": "display_data"
    }
   ],
   "source": [
    "from sklearn.metrics import plot_confusion_matrix\n",
    "plot_confusion_matrix(classifier, a_test, b_test)\n",
    "plt.xlabel(\"True Label\")\n",
    "plt.ylabel(\"Predicitive Label\")\n",
    "plt.show()\n",
    "\n"
   ]
  },
  {
   "cell_type": "markdown",
   "id": "c11fa8c9",
   "metadata": {},
   "source": [
    "The confusion Matrix is divided into 4. The top left Corner is True-Positive where the Actual dataset is Positive and Predictive value is positive having 126 Counts.\n",
    "\n",
    "The top right is False- Positive where the dataset value is True but predicition is false having 4 counts.\n",
    "\n",
    "The bottom left is False-Negative where dataset is negative but predicted positive having 5 counts\n",
    "\n",
    "The bottom right is True-Negative where both actual dataset and predicited is negative having 70 counts.\n"
   ]
  },
  {
   "cell_type": "code",
   "execution_count": 71,
   "id": "4a19c8a4",
   "metadata": {},
   "outputs": [
    {
     "name": "stdout",
     "output_type": "stream",
     "text": [
      "The Accuracy is 95.60975609756098\n",
      "The Precision is 94.5945945945946\n",
      "The Recall Score is 93.33333333333333\n",
      "F1 score is 93.95973154362416\n"
     ]
    }
   ],
   "source": [
    "\n",
    "Accuracy = metrics.accuracy_score(b_test, b_pred)\n",
    "print(\"The Accuracy is\",Accuracy*100)\n",
    "Precision = metrics.precision_score(b_test, b_pred)\n",
    "print(\"The Precision is\",Precision*100)\n",
    "Recall = metrics.recall_score(b_test, b_pred)\n",
    "print(\"The Recall Score is\",Recall*100)\n",
    "F1 = metrics.f1_score(b_test, b_pred)\n",
    "print(\"F1 score is\",F1*100)"
   ]
  },
  {
   "cell_type": "markdown",
   "id": "72600461",
   "metadata": {},
   "source": [
    "Accuracy , F1 score, Precision and Recall Score are the parametres for checking the performance of the Logisitic Regression model. \n",
    "\n",
    "Accuracy is amount of properly made predictions / total number of predictions. The accuracy we have here is 95.6%\n",
    "\n",
    "Precision is the ratio of True-Positives and total positives predicted and our Precision rate is 94.5%.\n",
    "\n",
    "Recall is the ratio of True-Positives to all the positives and our Recall score is 93.3%. \n",
    "\n",
    "The F1 score we have here is 93.9 % which is almost equal to 94%. \n",
    "\n",
    "All the scores are takes as Percentage by multiplying by 100."
   ]
  },
  {
   "cell_type": "code",
   "execution_count": 72,
   "id": "197d56b3",
   "metadata": {},
   "outputs": [
    {
     "data": {
      "text/plain": [
       "[<matplotlib.lines.Line2D at 0x1ea6e2ec130>]"
      ]
     },
     "execution_count": 72,
     "metadata": {},
     "output_type": "execute_result"
    },
    {
     "data": {
      "image/png": "[encoded data removed]",
      "text/plain": [
       "<Figure size 640x480 with 1 Axes>"
      ]
     },
     "metadata": {},
     "output_type": "display_data"
    }
   ],
   "source": [
    "plt.figure(0).clf()\n",
    "\n",
    "mdl2 = LogisticRegression()\n",
    "mdl2.fit(a_train, b_train)\n",
    "b_pred = mdl2.predict_proba(a_test)[:, 1]\n",
    "fpr2, tpr2, _ = metrics.roc_curve(b_test, b_pred)\n",
    "auc2 = metrics.roc_auc_score(b_test, b_pred)\n",
    "plt.plot(fpr2,tpr2)\n"
   ]
  },
  {
   "cell_type": "code",
   "execution_count": 73,
   "id": "26182489",
   "metadata": {},
   "outputs": [
    {
     "name": "stdout",
     "output_type": "stream",
     "text": [
      "The AUC Score for Logistic Regression is 0.9951794871794872\n"
     ]
    }
   ],
   "source": [
    "from sklearn.metrics import roc_auc_score\n",
    "\n",
    "auc_2 = roc_auc_score(b_test, b_pred)\n",
    "\n",
    "print(\"The AUC Score for Logistic Regression is\",auc_2)"
   ]
  },
  {
   "cell_type": "markdown",
   "id": "41666ae1",
   "metadata": {},
   "source": [
    "The AUROC Value we received here is 0.9951, which shows it can distinguish positive and negative classes really well."
   ]
  },
  {
   "cell_type": "markdown",
   "id": "28e9c59e",
   "metadata": {},
   "source": [
    "###### Explanation of Logistic Regression\n"
   ]
  },
  {
   "cell_type": "markdown",
   "id": "5c0902f3",
   "metadata": {},
   "source": [
    "A logistic Regression is a classifier which aims to classify a dataset using categorial outcomes. Here out outcomes was binomial where the class can either be positive or negative. It can have more than two outcomes too and is called multinomial. We use a sklearn module for classiying using Logsitic Regression and use the LogsisticRegression function in it.\n",
    "\n",
    "A predicition is done using it and then is compared with the test class to get the scores for the classifier. Mathematically a sigmoid function is used to perform Logistic Regression which is shown as a S curve in a graph using sig(t) = 1/(1+e^-t).\n",
    "\n",
    "Using the Logistic Regression function, I was able to classify the cancer dataset with the below scores:\n",
    "\n",
    "\n",
    "The Accuracy is 95.60,\n",
    "The Precision is 94.59,\n",
    "The Recall Score is 93.33,\n",
    "F1 score is 93.95,\n",
    "\n",
    "The AUROC score for the Logistic Regression is 0.9951 which is Extremely good and can distinguish positive and negative classes really well.\n"
   ]
  },
  {
   "cell_type": "markdown",
   "id": "5334a170",
   "metadata": {},
   "source": [
    "##### Comparing Both Naive Bayes and Logistic Regression\n"
   ]
  },
  {
   "cell_type": "markdown",
   "id": "06e8a5c9",
   "metadata": {},
   "source": [
    "Naive Bayes Parametres :\n",
    "The Accuracy score is 94.6%\n",
    "The Precision is 89%\n",
    "The Recall Score is 97.3%\n",
    "F1 score is 92.9%\n",
    "\n",
    "Logistic Regression Parametres:\n",
    "\n",
    "The Accuracy is 95.6%\n",
    "The Precision is 94.5%\n",
    "The Recall Score is 93.3%\n",
    "F1 score is 93.9%\n",
    "\n",
    "Here we can see Logistic Regression overperforms Naive bayes slighly in everything except Recall. \n",
    "\n",
    "When it comes to AUROC Curve Naive Bayes gets 97.69 meanwhile Logistic Regression gets 99.51 where Logisitic regression outperforms Naive Bayes slighly.\n",
    "\n",
    "\n"
   ]
  },
  {
   "cell_type": "code",
   "execution_count": 74,
   "id": "22fe5a58",
   "metadata": {},
   "outputs": [
    {
     "name": "stdout",
     "output_type": "stream",
     "text": [
      "Naive Bayes: Mean Accuracy = 95.90% and Standard Deviation Accuracy = 1.76%\n",
      "Logistic Regression: Mean Accuracy = 96.05% and Standard Deviation Accuracy = 3.44%\n"
     ]
    }
   ],
   "source": [
    "\n",
    "from sklearn.model_selection import cross_val_score\n",
    "from sklearn.linear_model import LogisticRegression\n",
    "from sklearn.naive_bayes import GaussianNB\n",
    "\n",
    "comparison_models = []\n",
    "comparison_models.append(('Naive Bayes', GaussianNB()))\n",
    "comparison_models.append(('Logistic Regression', LogisticRegression(solver=\"liblinear\")))\n",
    "for name, model in comparison_models:\n",
    "  compare = cross_val_score(model, x, y, scoring='accuracy')\n",
    "\n",
    "  print(\"%s: Mean Accuracy = %.2f%% and Standard Deviation Accuracy = %.2f%%\" % (name, compare.mean()*100, compare.std()*100))"
   ]
  },
  {
   "cell_type": "markdown",
   "id": "90420617",
   "metadata": {},
   "source": [
    "This is the comparison of both Naive Bayes and Logistic Regression model on the basis of Mean and Standard deviation of Accuracy. Logisitic Regression performs just slighly better than Naive bayes in both comparisons."
   ]
  },
  {
   "cell_type": "code",
   "execution_count": 75,
   "id": "c611feee",
   "metadata": {},
   "outputs": [
    {
     "name": "stdout",
     "output_type": "stream",
     "text": [
      "Naive Bayes: Mean Precision = 91.92% and Standard Deviation Precision = 4.21%\n",
      "Logistic Regression: Mean Precision = 96.27% and Standard Deviation Precision = 4.25%\n"
     ]
    }
   ],
   "source": [
    "\n",
    "from sklearn.model_selection import cross_val_score\n",
    "from sklearn.linear_model import LogisticRegression\n",
    "from sklearn.naive_bayes import GaussianNB\n",
    "\n",
    "comparison_models = []\n",
    "comparison_models.append(('Naive Bayes', GaussianNB()))\n",
    "comparison_models.append(('Logistic Regression', LogisticRegression(solver=\"liblinear\")))\n",
    "for name, model in comparison_models:\n",
    "  compare = cross_val_score(model, x, y, scoring='precision')\n",
    "\n",
    "  print(\"%s: Mean Precision = %.2f%% and Standard Deviation Precision = %.2f%%\" % (name, compare.mean()*100, compare.std()*100))"
   ]
  },
  {
   "cell_type": "markdown",
   "id": "82a85513",
   "metadata": {},
   "source": [
    "This is the comparison of both Naive Bayes and Logistic Regression model on the basis of Mean and Standard deviation of Precision. Logisitic Regression performs better than Naive bayes in the comparison while Standard deviation is almost similar."
   ]
  },
  {
   "cell_type": "code",
   "execution_count": 76,
   "id": "5a62c1ca",
   "metadata": {},
   "outputs": [
    {
     "name": "stdout",
     "output_type": "stream",
     "text": [
      "Naive Bayes: Mean Recall = 97.07% and Standard Deviation Recall = 1.04%\n",
      "Logistic Regression: Mean Recall = 92.48% and Standard Deviation Recall = 8.79%\n"
     ]
    }
   ],
   "source": [
    "\n",
    "from sklearn.model_selection import cross_val_score\n",
    "from sklearn.linear_model import LogisticRegression\n",
    "from sklearn.naive_bayes import GaussianNB\n",
    "\n",
    "comparison_models = []\n",
    "comparison_models.append(('Naive Bayes', GaussianNB()))\n",
    "comparison_models.append(('Logistic Regression', LogisticRegression(solver=\"liblinear\")))\n",
    "for name, model in comparison_models:\n",
    "  compare = cross_val_score(model, x, y, scoring='recall')\n",
    "\n",
    "  print(\"%s: Mean Recall = %.2f%% and Standard Deviation Recall = %.2f%%\" % (name, compare.mean()*100, compare.std()*100))"
   ]
  },
  {
   "cell_type": "markdown",
   "id": "62dc05a3",
   "metadata": {},
   "source": [
    "This is the comparison of both Naive Bayes and Logistic Regression model on the basis of Mean and Standard deviation of Precision. Naive bayes performs better than Logistic Regression model in the comparison while Standard deviation is higher for Logistic Regression model."
   ]
  },
  {
   "cell_type": "code",
   "execution_count": 77,
   "id": "a4db9589",
   "metadata": {},
   "outputs": [
    {
     "name": "stdout",
     "output_type": "stream",
     "text": [
      "Naive Bayes: Mean F1 Score = 94.37% and Standard Deviation F1 Score = 2.28%\n",
      "Logistic Regression: Mean F1 Score = 94.08% and Standard Deviation F1 Score = 5.50%\n"
     ]
    }
   ],
   "source": [
    "\n",
    "from sklearn.model_selection import cross_val_score\n",
    "from sklearn.linear_model import LogisticRegression\n",
    "from sklearn.naive_bayes import GaussianNB\n",
    "\n",
    "comparison_models = []\n",
    "comparison_models.append(('Naive Bayes', GaussianNB()))\n",
    "comparison_models.append(('Logistic Regression', LogisticRegression(solver=\"liblinear\")))\n",
    "for name, model in comparison_models:\n",
    "  compare = cross_val_score(model, x, y, scoring='f1')\n",
    "\n",
    "  print(\"%s: Mean F1 Score = %.2f%% and Standard Deviation F1 Score = %.2f%%\" % (name, compare.mean()*100, compare.std()*100))"
   ]
  },
  {
   "cell_type": "markdown",
   "id": "4b92039b",
   "metadata": {},
   "source": [
    "This is the comparison of both Naive Bayes and Logistic Regression model on the basis of Mean and Standard deviation of F1 Score. Naive bayes performs just slighly better than Logistic Regression model in the comparison while Standard deviation is higher for Logistic Regression model."
   ]
  },
  {
   "cell_type": "markdown",
   "id": "933af543",
   "metadata": {},
   "source": [
    "###### Comparing AUROC of both Models"
   ]
  },
  {
   "cell_type": "code",
   "execution_count": 78,
   "id": "4dc7e6de",
   "metadata": {},
   "outputs": [
    {
     "data": {
      "text/plain": [
       "<matplotlib.legend.Legend at 0x1ea6bad5b80>"
      ]
     },
     "execution_count": 78,
     "metadata": {},
     "output_type": "execute_result"
    },
    {
     "data": {
      "image/png": "[encoded data removed]",
      "text/plain": [
       "<Figure size 640x480 with 1 Axes>"
      ]
     },
     "metadata": {},
     "output_type": "display_data"
    }
   ],
   "source": [
    "plt.figure(0).clf()\n",
    "\n",
    "mdl3 = LogisticRegression()\n",
    "mdl3.fit(a_train, b_train)\n",
    "b_pred = mdl3.predict_proba(a_test)[:, 1]\n",
    "fpr3, tpr3, _ = metrics.roc_curve(b_test, b_pred)\n",
    "auc3 = metrics.roc_auc_score(b_test, b_pred)\n",
    "plt.plot(fpr3,tpr3,label=\"Logistic Regression, AUC=\"+str(auc3))\n",
    "\n",
    "mdl4 = GaussianNB()\n",
    "mdl4.fit(x_train, y_train)\n",
    "y_pred = mdl4.predict_proba(x_test)[:, 1]\n",
    "fpr4, tpr4, _ = metrics.roc_curve(y_test, y_pred)\n",
    "auc4 = metrics.roc_auc_score(y_test, y_pred)\n",
    "plt.plot(fpr4,tpr4,label=\"Naive Bayes, AUC=\"+str(auc4))\n",
    "\n",
    "plt.legend()"
   ]
  },
  {
   "cell_type": "markdown",
   "id": "683d3f25",
   "metadata": {},
   "source": [
    "Here the AUROC Score of Logistic Regression which is 0.9952 slightly overperforms Naive bayes which is 0.9769  and can be consiedered a better model even though both are extremely goood."
   ]
  },
  {
   "cell_type": "markdown",
   "id": "d57cacf0",
   "metadata": {},
   "source": [
    "###### Conclusion"
   ]
  },
  {
   "cell_type": "markdown",
   "id": "78a808da",
   "metadata": {},
   "source": [
    "Breast Cancer dataset was classified using Naive Bayes and Logistic Regression and both models were able to classify with really good scores. \n",
    "\n",
    "Logistic Regression overperforms Naive Bayes and can be considered a better model in a small margin."
   ]
  }
 ],
 "metadata": {
  "kernelspec": {
   "display_name": "Python 3 (ipykernel)",
   "language": "python",
   "name": "python3"
  },
  "language_info": {
   "codemirror_mode": {
    "name": "ipython",
    "version": 3
   },
   "file_extension": ".py",
   "mimetype": "text/x-python",
   "name": "python",
   "nbconvert_exporter": "python",
   "pygments_lexer": "ipython3",
   "version": "3.9.15"
  }
 },
 "nbformat": 4,
 "nbformat_minor": 5
}
